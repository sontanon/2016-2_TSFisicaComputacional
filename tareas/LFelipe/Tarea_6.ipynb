{
 "cells": [
  {
   "cell_type": "markdown",
   "metadata": {
    "slideshow": {
     "slide_type": "slide"
    }
   },
   "source": [
    "# Derivadas superiores"
   ]
  },
  {
   "cell_type": "markdown",
   "metadata": {},
   "source": [
    "Hasta ahora hemos visto que, usando diferenciación automática, podemos calcular la derivada de funciones de una variable esencialmente con un error del orden del epsilon de la máquina.\n",
    "\n",
    "La pregunta que abordaremos ahora, es cómo hacer para calcular la segunda derivada, y derivadas de orden superior."
   ]
  },
  {
   "cell_type": "markdown",
   "metadata": {
    "slideshow": {
     "slide_type": "subslide"
    }
   },
   "source": [
    "Una posibilidad, específica para el caso de la segunda derivada, es proceder como en el caso anterior, es decir, definir una *terna ordenada* donde la primer componente es el valor de la función en $x_0$, i.e., $f(x_0)$, el de la segunda es el valor de la primer derivada $f'(x_0)$, y la tercer componente tiene el valor de la segunda derivada, $f^{(2)}(x_0) = f''(x_0)$. \n"
   ]
  },
  {
   "cell_type": "markdown",
   "metadata": {
    "slideshow": {
     "slide_type": "subslide"
    }
   },
   "source": [
    "Con esta definición, las operaciones aritméticas vienen dadas por:\n",
    "\n",
    "\\begin{eqnarray}\n",
    "\\vec{u} + \\vec{v} & = & (u + v, \\quad u'+ v', \\quad u''+v''),\\\\\n",
    "\\vec{u} - \\vec{v} & = & (u - v, \\quad u'- v', \\quad u''-v''),\\\\\n",
    "\\vec{u} \\times \\vec{v} & = & (u v, \\quad u v' + u' v, \\quad u v'' + 2 u' v' + u'' v),\\\\\n",
    "\\frac{\\vec{u}}{\\vec{v}} & = & \\Big( \\frac{u}{v}, \\quad \\frac{u'-( u/v) v'}{v}, \\quad \n",
    "\\frac{u'' - 2 (u/v)' v' - (u/v)v'' }{v}\\Big).\\\\\n",
    "\\end{eqnarray}\n",
    "\n",
    "Claramente, este proceso es muy ineficiente para derivadas de orden aún más alto, dado que las expresiones se complican y es fácil cometer errores."
   ]
  },
  {
   "cell_type": "markdown",
   "metadata": {
    "slideshow": {
     "slide_type": "slide"
    }
   },
   "source": [
    "# Series de Taylor"
   ]
  },
  {
   "cell_type": "markdown",
   "metadata": {
    "slideshow": {
     "slide_type": "-"
    }
   },
   "source": [
    "El punto importante a recordar, es que las derivadas de orden superior de una función $f(x)$ en un punto $x_0$ están contenidas en el desarrollo de Taylor de la función entorno a ese punto. La suposición importante en esto es que $f(x)$ es suficientemente suave; por simplicidad supondremos que $f(x)$ es ${\\cal C}^\\infty$ y que estamos suficientemente cerca del punto $x_0$, i.e., $|x-x_0|\\ll 1$. \n"
   ]
  },
  {
   "cell_type": "markdown",
   "metadata": {
    "slideshow": {
     "slide_type": "subslide"
    }
   },
   "source": [
    "La serie de Taylor de $f(x)$ viene dada por\n",
    "\n",
    "\\begin{eqnarray}\n",
    "f(x) & = & f(x_0) + f^{(1)}(x_0) (x-x_0) + \\frac{f^{(2)}(x_0)}{2!} (x-x_0)^2 + \\dots + \\frac{f^{(k)}(x_0)}{k!} (x-x_0)^k + \\dots,\\\\\n",
    "& = & f_{[0]} + f_{[1]} (x-x_0) + f_{[2]} (x-x_0)^2 + \\dots + f_{[k]} (x-x_0)^k + \\dots,\\\\\n",
    "\\end{eqnarray}\n",
    "\n",
    "donde los coeficientes *normalizados* de Taylor $f_{[k]}$ que aparecen en la segunda línea de la ecuación anterior se definen como\n",
    "\n",
    "\\begin{equation}\n",
    "f_{[k]} = \\frac{f^{(k)}(x_0)}{k!} = \\frac{1}{k!}\\frac{{\\rm d}^k f}{{\\rm d}x^k}(x_0).\n",
    "\\end{equation}\n",
    "\n"
   ]
  },
  {
   "cell_type": "markdown",
   "metadata": {
    "slideshow": {
     "slide_type": "fragment"
    }
   },
   "source": [
    "Vale la pena **enfatizar** que la expresión anterior es exacta en tanto que la serie **no** sea truncada. En el caso de que la serie truncada a orden k, el [teorema de Taylor](https://en.wikipedia.org/wiki/Taylor%27s_theorem) asegura que el residuo (error del truncamiento) se puede escribir como:\n",
    "\n",
    "\\begin{equation}\n",
    "{\\cal R_{k}} = \\frac{f^{(k+1)}\\,(\\xi)}{(k+1)!} (x-x_0)^{k+1},\n",
    "\\end{equation}\n",
    "\n",
    "donde $\\xi$ es un punto que pertenece al interval $[x_0,x]$.\n"
   ]
  },
  {
   "cell_type": "markdown",
   "metadata": {
    "slideshow": {
     "slide_type": "subslide"
    }
   },
   "source": [
    "Si la serie es truncada, la aproximación es un polinomio de orden $k$ (grado máximo es $k$) en $x$. Dado que los polinomios en una variable están definidos por $k+1$ coeficientes, entonces pueden ser mapeados a vectores en $\\mathbb{R}^{k+1}$. \n",
    "\n",
    "Las operaciones aritméticas, en este caso, vienen dadas por:\n",
    "\n",
    "\\begin{eqnarray}\n",
    "(f+g)_{[k]} & = & f_{[k]} + g_{[k]} ,\\\\\n",
    "(f-g)_{[k]} & = & f_{[k]} - g_{[k]} ,\\\\\n",
    "(f \\cdot g)_{[k]} & = & \\sum_{i=0}^k f_{[i]} \\,g_{[k-i]} \\, ,\\\\\n",
    "\\Big(\\frac{f}{g}\\Big)_{[k]} & = & \\frac{1}{g_{[0]}}\n",
    "\\Big( f_{[k]} - \\sum_{i=0}^{k-1} \\big(\\frac{f}{g}\\big)_{[i]} \\, g_{[k-i]} \\Big) . \\\\\n",
    "\\end{eqnarray}"
   ]
  },
  {
   "cell_type": "markdown",
   "metadata": {
    "slideshow": {
     "slide_type": "slide"
    }
   },
   "source": [
    "### Ejercicio\n",
    "\n",
    "Implementen una nueva estructura paramétrica (`type`) que defina el tipo `Taylor`, donde el parámetro debe ser un subtipo de `Number`. Definan métodos que implementen las operaciones aritméticas básicas (`+`, `-`, `*`, `/`) y la igualdad (`==`). Esto deberá ser incluido en un módulo.\n",
    "\n",
    "Incluyan pruebas (en el archivo \"runtests.jl\") para cada uno de los métodos que implementen.\n"
   ]
  },
  {
   "cell_type": "code",
   "execution_count": 1,
   "metadata": {
    "collapsed": false,
    "scrolled": true
   },
   "outputs": [
    {
     "data": {
      "text/plain": [
       "promote (generic function with 7 methods)"
      ]
     },
     "execution_count": 1,
     "metadata": {},
     "output_type": "execute_result"
    }
   ],
   "source": [
    "\"\"\"\n",
    "Definición de polinomios de Taylor, consta de dos partes: 'co' es un Array{T<:Number} que contiene los \n",
    "coeficientes ordenados NO NULOS del polinomio y 'gr' es el grado del polinomio de tal forma que \n",
    "Taylor{Number}([a₀,a₁,a₂,..,aₙ],m) representa el polinomio a₀ + a₁x + a₂x² + ··· + aₙxⁿ + ... + 0xᵐ\n",
    "...\n",
    "\"\"\"\n",
    "type Taylor{T<:Number}\n",
    "    \n",
    "    co :: Array{T,1}\n",
    "    gr :: Int     \n",
    "    \n",
    "    function Taylor(co::Array{T,1}, gr::Int) #Para que los Taylor esten bien definidos\n",
    "        if gr < length(co)-1\n",
    "            error(\"\"\"El grado del polinomio debe ser mayor o igual al numero de coeficientes menos uno. \n",
    "            Puede utilizar Taylor([a₀,a₁,...,aₙ]) sin especificar el grado para asignar automaticamente \n",
    "            el grado mínimo: Taylor([a₀,a₁,...,aₙ],n)\"\"\")\n",
    "        end\n",
    "        new(co,gr)\n",
    "    end  \n",
    "    \n",
    "end\n",
    "\n",
    "Taylor{T<:Number}(co::Array{T,1},gr::Int) = Taylor{T}(co,gr) #Para no tener que especificar el Tipo de los \n",
    "                                                             #coeficientes\n",
    "\n",
    "Taylor{T}(co::Array{T,1}) = Taylor(co,length(co)-1) #Define un Taylor sin especificar el grado\n",
    "    \n",
    "Taylor(co::Number) = Taylor([co]) #El Taylor de una constante\n",
    "\n",
    "import Base.promote\n",
    "\n",
    "function promote(a::Taylor,b::Taylor)\n",
    "    gr = maximum([a.gr,b.gr])\n",
    "    A = zeros(typeof(promote(a.co)[1][1]), gr+1)\n",
    "    B = zeros(typeof(promote(b.co)[1][1]), gr+1)\n",
    "    for i in 1:length(a.co)\n",
    "        A[i] = a.co[i]\n",
    "    end\n",
    "    for i in 1:length(b.co)\n",
    "        B[i] = b.co[i]\n",
    "    end\n",
    "    return Taylor(A,gr),Taylor(B,gr),gr\n",
    "end\n",
    "\n",
    "function promote(a::Taylor,b::Taylor,c::Int)\n",
    "    # Esta función toma dos Taylor y un entero c, y regresa los mismos dos Taylor pero ahora ambos con c+1 coeficientes\n",
    "    # y por tanto representan ahora polinomios de grado c\n",
    "    (c < length(a.co)-1 || c < length(b.co)-1) && error(\"\"\"El nuevo grado, c = $c, debe ser mayor que el grado mínimo \n",
    "                                                        de los Taylor ingresados\"\"\")\n",
    "    A = Taylor(a.co,c)\n",
    "    A,B,gr = promote(A,b)\n",
    "    return A,B\n",
    "end"
   ]
  },
  {
   "cell_type": "code",
   "execution_count": 2,
   "metadata": {
    "collapsed": false
   },
   "outputs": [
    {
     "name": "stdout",
     "output_type": "stream",
     "text": [
      "search: "
     ]
    },
    {
     "data": {
      "text/latex": [
       "Definición de polinomios de Taylor, consta de dos partes: 'co' es un Array\\{T<:Number\\} que contiene los  coeficientes ordenados NO NULOS del polinomio y 'gr' es el grado del polinomio de tal forma que  Taylor\\{Number\\}([a₀,a₁,a₂,..,aₙ],m) representa el polinomio a₀ + a₁x + a₂x² + ··· + aₙxⁿ + ... + 0xᵐ ...\n"
      ],
      "text/markdown": [
       "Definición de polinomios de Taylor, consta de dos partes: 'co' es un Array{T<:Number} que contiene los  coeficientes ordenados NO NULOS del polinomio y 'gr' es el grado del polinomio de tal forma que  Taylor{Number}([a₀,a₁,a₂,..,aₙ],m) representa el polinomio a₀ + a₁x + a₂x² + ··· + aₙxⁿ + ... + 0xᵐ ...\n"
      ],
      "text/plain": [
       "Definición de polinomios de Taylor, consta de dos partes: 'co' es un Array{T<:Number} que contiene los  coeficientes ordenados NO NULOS del polinomio y 'gr' es el grado del polinomio de tal forma que  Taylor{Number}([a₀,a₁,a₂,..,aₙ],m) representa el polinomio a₀ + a₁x + a₂x² + ··· + aₙxⁿ + ... + 0xᵐ ...\n"
      ]
     },
     "execution_count": 2,
     "metadata": {},
     "output_type": "execute_result"
    },
    {
     "name": "stdout",
     "output_type": "stream",
     "text": [
      "Taylor\n",
      "\n"
     ]
    }
   ],
   "source": [
    "?Taylor"
   ]
  },
  {
   "cell_type": "code",
   "execution_count": 3,
   "metadata": {
    "collapsed": false
   },
   "outputs": [],
   "source": [
    "A = [1,2,3,4,5]\n",
    "B = [1,2,3]\n",
    "C = [1,2,3,4,5,6,7];"
   ]
  },
  {
   "cell_type": "code",
   "execution_count": 4,
   "metadata": {
    "collapsed": false
   },
   "outputs": [],
   "source": [
    "using Base.Test"
   ]
  },
  {
   "cell_type": "code",
   "execution_count": 5,
   "metadata": {
    "collapsed": false
   },
   "outputs": [],
   "source": [
    "import Base: +, -, *, /, =="
   ]
  },
  {
   "cell_type": "code",
   "execution_count": 6,
   "metadata": {
    "collapsed": false
   },
   "outputs": [
    {
     "data": {
      "text/plain": [
       "/ (generic function with 49 methods)"
      ]
     },
     "execution_count": 6,
     "metadata": {},
     "output_type": "execute_result"
    }
   ],
   "source": [
    "function ==(a::Taylor,b::Taylor)\n",
    "    a = Taylor(a)\n",
    "    b = Taylor(b)\n",
    "    return a.co == b.co\n",
    "end\n",
    "\n",
    "function +(a::Taylor,b::Taylor)\n",
    "    a,b,c = promote(a,b)\n",
    "    d = a.co + b.co\n",
    "    Taylor(resize!(d,findlast(d)), c)\n",
    "end\n",
    "\n",
    "function -(a::Taylor,b::Taylor)\n",
    "    a,b,c = promote(a,b)\n",
    "    d = a.co - b.co\n",
    "    Taylor(resize!(d,findlast(d)), c)\n",
    "end\n",
    "\n",
    "function *(a::Taylor,b::Taylor)\n",
    "    c = length(a.co) + length(b.co)\n",
    "    grad_f = a.gr + b.gr\n",
    "    a,b = promote(a,b,c)\n",
    "    suma(i) = sum([a.co[j]*b.co[i-j+1] for j in 1:i])\n",
    "    d = [suma(i) for i in 1:c+1]\n",
    "    d = Array{typeof(promote(d)[1][1])}(d) # Como el tipo original de d es Array{Any,1}, lo convertimos a un                                         # Array{T<:Number,1}\n",
    "    return Taylor(resize!(d,findlast(d)), grad_f)\n",
    "end\n",
    "\n",
    "function /(a::Taylor, b::Taylor)\n",
    "    length(a.co) < length(b.co) && error(\"El grado del numerador debe ser mayor al del denominador\")\n",
    "    c = length(b.co)-1\n",
    "    suma(i) = sum([(a.co[j+1]/b.co[j+1])*b.co[i-j+2] for j in 1:i])\n",
    "    d = unshift!([a.co[i] - suma(i) for i in 1:c]./b.co[1], a.co[1]/b.co[1])\n",
    "    d = Array{typeof(promote(d)[1][1])}(d)\n",
    "    return Taylor(resize!(d,findlast(d)), c)\n",
    "end"
   ]
  },
  {
   "cell_type": "code",
   "execution_count": 7,
   "metadata": {
    "collapsed": false
   },
   "outputs": [
    {
     "data": {
      "text/plain": [
       "Taylor{Int64}([2,4,6,8,10,6,7],6)"
      ]
     },
     "execution_count": 7,
     "metadata": {},
     "output_type": "execute_result"
    }
   ],
   "source": [
    "Taylor(A) + Taylor(C)"
   ]
  },
  {
   "cell_type": "code",
   "execution_count": 8,
   "metadata": {
    "collapsed": false
   },
   "outputs": [
    {
     "data": {
      "text/plain": [
       "Taylor{Int64}([0,0,0,4,5],4)"
      ]
     },
     "execution_count": 8,
     "metadata": {},
     "output_type": "execute_result"
    }
   ],
   "source": [
    "Taylor(A) - Taylor(B)"
   ]
  },
  {
   "cell_type": "code",
   "execution_count": 9,
   "metadata": {
    "collapsed": false
   },
   "outputs": [
    {
     "data": {
      "text/plain": [
       "Taylor{Int64}([1,4,10,16,22,22,15],6)"
      ]
     },
     "execution_count": 9,
     "metadata": {},
     "output_type": "execute_result"
    }
   ],
   "source": [
    "Taylor(A) * Taylor(B)"
   ]
  },
  {
   "cell_type": "code",
   "execution_count": 10,
   "metadata": {
    "collapsed": false
   },
   "outputs": [
    {
     "data": {
      "text/plain": [
       "Taylor{Float64}([1.0,-1.0,-3.0],2)"
      ]
     },
     "execution_count": 10,
     "metadata": {},
     "output_type": "execute_result"
    }
   ],
   "source": [
    "Taylor(A,8) / Taylor(B,7)"
   ]
  },
  {
   "cell_type": "markdown",
   "metadata": {},
   "source": [
    "$$\\frac{1}{g_{[0]}} \\Big( f_{[k]} - \\sum_{i=0}^{k-1} \\big(\\frac{f}{g}\\big)_{[i]} \\, g_{[k-i]} \\Big)$$"
   ]
  },
  {
   "cell_type": "markdown",
   "metadata": {},
   "source": [
    "No sé si en verdad esta bien definida la división, sobre todo el termino $(\\frac{f}{g})_{[i]}$ me causa ruido y lo termine interpretando como $\\frac{f_{[i]}}{g_{[i]}}$."
   ]
  },
  {
   "cell_type": "code",
   "execution_count": null,
   "metadata": {
    "collapsed": true,
    "slideshow": {
     "slide_type": "-"
    }
   },
   "outputs": [],
   "source": [
    "# Muestren que su código funciona con tests adecuados; para los detalles ver \n",
    "# http://julia.readthedocs.org/en/release-0.4/stdlib/test/\n",
    "using Base.Test\n"
   ]
  },
  {
   "cell_type": "markdown",
   "metadata": {
    "slideshow": {
     "slide_type": "slide"
    }
   },
   "source": [
    "# Funciones de polinomios"
   ]
  },
  {
   "cell_type": "markdown",
   "metadata": {},
   "source": [
    "El siguiente punto, es cómo definir funciones de polinomios. \n",
    "\n",
    "Como veremos aquí, esto se basará en plantear una ecuación diferencial apropiada, cuya solución es, precisamente, la expresión que estamos buscando. Este punto es *importante*, y muestra que hay una conexión importante con la solución de ecuaciones diferenciales."
   ]
  },
  {
   "cell_type": "markdown",
   "metadata": {
    "slideshow": {
     "slide_type": "subslide"
    }
   },
   "source": [
    "Como ejemplo consideraremos la función\n",
    "\n",
    "\\begin{equation}\n",
    "E(x) = \\exp\\big(g(x)\\big),\n",
    "\\end{equation}\n",
    "\n",
    "donde \n",
    "\n",
    "\\begin{equation}\n",
    "g(x) = \\sum_{k=0}^\\infty g_{[k]} (x-x_0)^k\n",
    "\\end{equation}\n",
    "\n",
    "está escrita como una serie de Taylor (¡exacta!) alrededor de $x_0$. \n"
   ]
  },
  {
   "cell_type": "markdown",
   "metadata": {},
   "source": [
    "El primer punto, es que escribiremos a $E(x)$ como una serie de Taylor alrededor de $x_0$, es decir,\n",
    "\n",
    "\\begin{equation}\n",
    "E(x) = \\sum_{k=0}^\\infty E_{[k]} (x-x_0)^k.\n",
    "\\end{equation}\n",
    "\n",
    "El objetivo es determinar $E_{[k]}$ para *toda* $k$.\n",
    "\n",
    "Dado que $E(x)$ esun polinomio en $x$, su derivada viene dada por\n",
    "\n",
    "\\begin{equation}\n",
    "\\frac{{\\rm d} E(x)}{{\\rm d}x} = \\sum_{k=1}^\\infty k E_{[k]}\\, (x-x_0)^{k-1} .\n",
    "\\end{equation}"
   ]
  },
  {
   "cell_type": "markdown",
   "metadata": {},
   "source": [
    "Por otra parte, la derivada de $E(x)$ en términos de $g(x)$ está dada por\n",
    "\n",
    "\\begin{equation}\n",
    "\\frac{{\\rm d} E(x)}{{\\rm d}x} = \\exp\\big(g(x)\\big) \\frac{{\\rm d} g(x)}{{\\rm d}x} = E(x) \\frac{{\\rm d} g(x)}{{\\rm d}x},\n",
    "\\end{equation}\n",
    "\n",
    "donde del lado derecho aparece la derivada de $g(x)$. Ya que $g(x)$ *también* está escrita en forma polinomial, su derivada es\n",
    "\n",
    "\\begin{equation}\n",
    "\\frac{{\\rm d} g(x)}{{\\rm d}x} = \\sum_{k=1}^\\infty k g_{[k]}\\, (x-x_0)^{k-1} .\n",
    "\\end{equation}\n"
   ]
  },
  {
   "cell_type": "markdown",
   "metadata": {
    "slideshow": {
     "slide_type": "subslide"
    }
   },
   "source": [
    "Tenemos, entonces, todo lo que requerimos para escribir el lado derecho de la ecuación diferencial y explotar la aritmética de polinomios. \n",
    "\n",
    "\\begin{eqnarray}\n",
    "E(x) \\frac{{\\rm d} g(x)}{{\\rm d}x}& = & \n",
    "\\Big[ \\sum_{k=0}^\\infty E_{[k]} (x-x_0)^k \\Big]\n",
    "\\Big[ \\sum_{j=1}^\\infty j g_{[j]} (x-x_0)^{j-1}\\Big] \\\\\n",
    " & = & \\sum_{k=1}^\\infty \\Big[ \\sum_{j=0}^k j g_{[j]} E_{[k-j]} \\; \\Big] (x-x_0)^{k-1} .\\\\\n",
    "\\end{eqnarray}\n",
    "\n",
    "La segunda línea se obtiene reordenando los términos al fijar la potencia de $(x-x_0)$, esto es, $k+j$ se toma como un nuevo índice ($k$), y el nuevo índice $j$ describe el índice del producto de los polinomios. (La potencia se deja de la forma $k-1$ ya que el lado izquierdo de la ecuación aparece así.)"
   ]
  },
  {
   "cell_type": "markdown",
   "metadata": {},
   "source": [
    "Igualando con el lado izquierdo de la ecuación diferencial, que sólo involucra a la derivada de $E(x)$, tenemos que se debe cumplir\n",
    "\n",
    "\\begin{equation}\n",
    "E_{[k]} = \\frac{1}{k} \\sum_{j=0}^k j g_{[j]} \\, E_{[k-j]} = \n",
    "\\frac{1}{k} \\sum_{j=0}^{k} (k-j) g_{[k-j]} \\, E_{[j]}, \\qquad k=1,2,\\dots,\n",
    "\\end{equation}\n",
    "\n",
    "incluyendo *la condición inicial*\n",
    "\n",
    "\\begin{equation}\n",
    "E_{[0]} = \\exp\\big(g(x_0)\\big).\n",
    "\\end{equation}\n",
    "\n",
    "Estas relaciones *de recurrencia* permiten calcular $\\exp\\big(g(x)\\big)$, para cualquier polinomio $g(x)$."
   ]
  },
  {
   "cell_type": "markdown",
   "metadata": {},
   "source": [
    "Para el caso concreto $g(x) = x$ alrededor de $x_0=0$, donde tenemos $g_{[j]} = \\delta_{j,1}$, obtenemos\n",
    "\n",
    "\\begin{eqnarray}\n",
    "E_{[0]} & = & 1,\\\\\n",
    "E_{[k]} & = & \\frac{1}{k} E_{[k-1]} = \\frac{1}{k(k-1)} E_{[k-2]} = \\dots = \\frac{1}{k!} E_{[0]} = \\frac{1}{k!}\\ ,\n",
    "\\end{eqnarray}\n",
    "\n",
    "que es el resultado bien conocido."
   ]
  },
  {
   "cell_type": "markdown",
   "metadata": {
    "slideshow": {
     "slide_type": "subslide"
    }
   },
   "source": [
    "### Ejercicio\n",
    "\n",
    "Obtengan las relaciones de recurrencia para las funciones $L(x) = \\log\\big(g(x)\\big)$, $P_\\alpha(x) = \\big(g(x)\\big)^\\alpha$, $S(x) = \\sin\\big(g(x)\\big)$, $C(x) = \\cos\\big(g(x)\\big)$ usando el mismo procedimiento que arriba. Implementen métodos adecuados para estas funciones en el módulo, actuando sobre estructuras `Taylor` e incluyan pruebas."
   ]
  },
  {
   "cell_type": "markdown",
   "metadata": {},
   "source": [
    "**NOTA** Los ejercicios de este notebook constituyen el contenido de la Tarea6."
   ]
  },
  {
   "cell_type": "markdown",
   "metadata": {},
   "source": [
    "### Solución "
   ]
  },
  {
   "cell_type": "markdown",
   "metadata": {},
   "source": [
    "### $L(x)$ "
   ]
  },
  {
   "cell_type": "markdown",
   "metadata": {},
   "source": [
    "$$ L(x) = log(g(x)) $$\n",
    "\n",
    "$$\\frac{dL(x)}{dx} = g^{-1}(x) \\frac{dg(x)}{dx}$$\n",
    "\n",
    "pero\n",
    "\n",
    "$$g(x) = \\sum^\\infty_{k=0} g_{[k]} (x-x_0)^{k}$$\n",
    "\n",
    "y\n",
    "\n",
    "$$\\frac{dg(x)}{dx} = \\sum^\\infty_{l=1} l\\ g_{[l]} (x-x_0)^{l-1}$$\n",
    "\n",
    "entonces\n",
    "\n",
    "$$\\frac{dL(x)}{dx} = \\frac{\\sum^\\infty_{l=1} l\\ g_{[l]} (x-x_0)^{l-1}}{\\sum^\\infty_{k=0} g_{[k]} (x-x_0)^{k}}$$"
   ]
  },
  {
   "cell_type": "markdown",
   "metadata": {},
   "source": [
    "pero por otro lado\n",
    "\n",
    "$$\\frac{dL(x)}{dx} = \\sum^\\infty_{k=1} k\\ L_{[k]} (x-x_0)^{k-1}$$\n",
    "\n",
    "igualando las ultimas dos ecuaciones\n",
    "\n",
    "$$\\sum^\\infty_{k=1} k\\ L_{[k]} (x-x_0)^{k-1} = \\frac{\\sum^\\infty_{l=1} l\\ g_{[l]} (x-x_0)^{l-1}}{\\sum^\\infty_{k=0} g_{[k]} (x-x_0)^{k}}$$\n",
    "\n",
    "multiplicando ambos lados por el denominador\n",
    "\n",
    "$$\\sum^\\infty_{l=1} l\\ g_{[l]} (x-x_0)^{l-1} = \\Big(\\sum^\\infty_{k=1} k\\ L_{[k]} (x-x_0)^{k-1}\\Big) \\Big(\\sum^\\infty_{l=0} g_{[l]} (x-x_0)^{l}\\Big)$$\n",
    "\n",
    "fijandonos unicamente en la multiplicación de las sumas, que es completamente análoga a la del ejemplo, tenemos la siguiente igualdad en general"
   ]
  },
  {
   "cell_type": "markdown",
   "metadata": {},
   "source": [
    "$$\\Big(\\sum^\\infty_{i=0} f_{[i]} (x-x_0)^{i}\\Big) \\Big(\\sum^\\infty_{j=1} j\\ g_{[j]} (x-x_0)^{j-1}\\Big) = \\sum^\\infty_{i=1} \\Big[\\sum^i_{j=0} j\\ g_{[j]}\\ f_{[i-j]}\\Big] (x - x_0)^{i-1} $$"
   ]
  },
  {
   "cell_type": "markdown",
   "metadata": {},
   "source": [
    "Entonces obtenemos\n",
    "\n",
    "$$ \\sum^\\infty_{l=1} l\\ g_{[l]} (x-x_0)^{l-1} = \\sum^\\infty_{l=1} \\Big[\\sum^l_{k=0} k\\ L_{[k]}\\ g_{[l-k]}\\Big] (x-x_0)^{l-1}$$\n",
    "\n",
    "por lo tanto si $l \\neq 0$\n",
    "\n",
    "$$l\\ g_{[l]} = \\sum^l_{k=0} k\\ L_{[k]}\\ g_{[l-k]}$$\n",
    "\n",
    "$$l\\ g_{[l]} = \\sum^{l-1}_{k=0} k\\ L_{[k]}\\ g_{[l-k]} + l\\ L_{[l]}\\ g_{[0]}$$\n",
    "\n",
    "despejando\n",
    "\n",
    "$$L_{[l]} = \\frac{g_{[l]}}{g_{[0]}} - \\frac{1}{l\\ g_{[0]}} \\sum^{l-1}_{k=0} k\\ L_{[k]}\\ g_{[l-k]}$$\n",
    "\n",
    "con las condiciones iniciales \n",
    "\n",
    "$$g_{[0]} = g(x_0)$$ y $$L_{[0]} = log(g(x_0))$$"
   ]
  },
  {
   "cell_type": "markdown",
   "metadata": {},
   "source": [
    "### $P_\\alpha(x)$"
   ]
  },
  {
   "cell_type": "markdown",
   "metadata": {},
   "source": [
    "De manera análoga al caso anterior llegamos a la ecuación\n",
    "\n",
    "$$\\sum^\\infty_{n=1} n\\ P_{\\alpha\\ [n]} (x-x_0)^{n-1} = \\alpha \\Big(\\sum_{k=0}^\\infty g_{[k]} (x-x_0)^k\\Big)^{\\alpha-1}\n",
    "\\Big(\\sum_{k_0=1}^\\infty k_0\\ g_{[k_0]} (x-x_0)^{k_0-1}\\Big)$$\n",
    "\n",
    "fijandonos de momento únicamente en el lado derecho de la igualdad notamos que\n",
    "\n",
    "$$A\\equiv\\alpha \\Big(\\sum_{k=0}^\\infty g_{[k]} (x-x_0)^k\\Big)^{\\alpha-1} \n",
    "\\Big(\\sum_{k_0=1}^\\infty k_0\\ g_{[k_0]} (x-x_0)^{k_0-1}\\Big) = \n",
    "\\alpha \\Big(\\sum_{k=0}^\\infty g_{[k]} (x-x_0)^k\\Big)^{\\alpha-2} \n",
    "\\Big(\\sum_{k_1=0}^\\infty g_{[k_1]} (x-x_0)^{k_1}\\Big) \n",
    "\\Big(\\sum_{k_0=1}^\\infty k_0\\ g_{[k_0]} (x-x_0)^{k_0-1}\\Big)$$\n",
    "\n",
    "y aplicando nuestra regla para multiplicación de sumas en los ultimos ultimos dos terminos obtenemos"
   ]
  },
  {
   "cell_type": "markdown",
   "metadata": {},
   "source": [
    "$$A = \\alpha \\Big(\\sum_{k=0}^\\infty g_{[k]} (x-x_0)^k\\Big)^{\\alpha-2} \n",
    "\\sum^\\infty_{k_1=1} \\Big[\\sum^{k_1}_{k_0=0} k_0\\ g_{[k_0]}\\ g_{[k_1-k_0]}\\Big] (x - x_0)^{k_1-1}$$"
   ]
  },
  {
   "cell_type": "markdown",
   "metadata": {},
   "source": [
    "Si definimos\n",
    "\n",
    "$$A_{k_0} \\equiv k_0\\ g_{[k_{0}]}$$\n",
    "\n",
    "$$A_{k_m} \\equiv \\sum^{k_m}_{k_{m-1}=0}  A_{k_{m-1}} g_{[k_m-k_{m-1}]}$$\n",
    "\n",
    "notamos que en especial\n",
    "\n",
    "$$A_{k_1} = \\sum^{k_1}_{k_{0}=0}  A_{k_0} g_{[k_1-k_{0}]} = \\sum^{k_1}_{k_{0}=0} k_0\\ g_{[k_{0}]}  g_{[k_1-k_{0}]}$$\n",
    "\n",
    "entonces\n",
    "\n",
    "$$A = \\alpha \\Big(\\sum_{k=0}^\\infty g_{[k]} (x-x_0)^k\\Big)^{\\alpha-2} \n",
    "\\sum^\\infty_{k_1=1} A_{k_1} (x - x_0)^{k_1-1}$$\n",
    "\n",
    "$$A = \\alpha \\Big(\\sum_{k=0}^\\infty g_{[k]} (x-x_0)^k\\Big)^{\\alpha-3} \n",
    "\\Big(\\sum_{k_2=0}^\\infty g_{[k_2]} (x-x_0)^{k_2}\\Big)\n",
    "\\Big(\\sum^\\infty_{k_1=1} A_{k_1} (x - x_0)^{k_1-1}\\Big)$$\n",
    "\n",
    "y nuevamente aplicando nuestra regla demultiplicación de sumas a los ultimos dos terminos"
   ]
  },
  {
   "cell_type": "markdown",
   "metadata": {},
   "source": [
    "$$A = \\alpha \\Big(\\sum_{k=0}^\\infty g_{[k]} (x-x_0)^k\\Big)^{\\alpha-3} \n",
    "\\sum^\\infty_{k_2=1} \\Big[\\sum^{k_2}_{k_1=0} A_{k_1}\\ g_{[k_2-k_1]}\\Big] (x - x_0)^{k_2-1}$$\n",
    "\n",
    "$$A = \\alpha \\Big(\\sum_{k=0}^\\infty g_{[k]} (x-x_0)^k\\Big)^{\\alpha-3} \n",
    "\\sum^\\infty_{k_2=1} A_{k_2} (x - x_0)^{k_2-1}$$\n",
    "\n",
    "repitiendo el mismo procedimiento llegamos a que\n",
    "\n",
    "$$A = \\alpha \\sum^\\infty_{k_{\\alpha-1}=1} A_{k_{\\alpha-1}} (x - x_0)^{k_{\\alpha-1}-1}$$"
   ]
  },
  {
   "cell_type": "markdown",
   "metadata": {},
   "source": [
    "Por lo que sustituyendo en nuestra primera ecuación\n",
    "\n",
    "$$\\sum^\\infty_{n=1} n\\ P_{\\alpha\\ [n]} (x-x_0)^{n-1} = \n",
    "\\sum^\\infty_{k_{\\alpha-1}=1} \\alpha\\ A_{k_{\\alpha-1}} (x - x_0)^{k_{\\alpha-1}-1}$$"
   ]
  },
  {
   "cell_type": "markdown",
   "metadata": {},
   "source": [
    "Por tanto si $n \\neq 0$\n",
    "\n",
    "$$ P_{\\alpha\\ [n]} = \\frac{\\alpha}{n} A_{n}$$\n",
    "\n",
    "con la condición inicial\n",
    "\n",
    "$$P_{\\alpha [0]} = g^{\\alpha}(x_0)$$"
   ]
  },
  {
   "cell_type": "code",
   "execution_count": 11,
   "metadata": {
    "collapsed": false
   },
   "outputs": [],
   "source": [
    "import Base: exp, log, sin, cos"
   ]
  },
  {
   "cell_type": "code",
   "execution_count": 226,
   "metadata": {
    "collapsed": false
   },
   "outputs": [
    {
     "data": {
      "text/plain": [
       "evaluar (generic function with 1 method)"
      ]
     },
     "execution_count": 226,
     "metadata": {},
     "output_type": "execute_result"
    }
   ],
   "source": [
    "function evaluar(a::Taylor,x₀)\n",
    "    typeof(x₀) <: Number || error(\"x₀ = '$x₀' debe ser de tipo T<:Number\")\n",
    "    x₀ == 0 && return a.co[1]\n",
    "    a = Taylor(a.co)\n",
    "    A = a.co[1]\n",
    "    for i in 2:a.gr+1\n",
    "        A += a.co[i] * x₀^(i-1)\n",
    "    end\n",
    "    return A\n",
    "end"
   ]
  },
  {
   "cell_type": "code",
   "execution_count": 227,
   "metadata": {
    "collapsed": false
   },
   "outputs": [
    {
     "data": {
      "text/plain": [
       "derivada (generic function with 2 methods)"
      ]
     },
     "execution_count": 227,
     "metadata": {},
     "output_type": "execute_result"
    }
   ],
   "source": [
    "function derivada(a::Taylor)\n",
    "    grado_original = a.gr\n",
    "    a = Taylor(a.co)\n",
    "    a_derivada = zeros(typeof(promote(a.co)[1][1]),a.gr+1)\n",
    "    for i in 2:a.gr+1\n",
    "        a_derivada[i-1] = a.co[i]*(i-1)\n",
    "    end\n",
    "    return Taylor(a_derivada,grado_original)\n",
    "end\n",
    "\n",
    "function derivada(a::Taylor,n::Int)\n",
    "    n < 0 && error(\"n = $n debe ser mayor o igual a 0\")\n",
    "    n > findlast(a.co)-1 && return Taylor([0],a.gr+1)\n",
    "    for i in 1:n\n",
    "        a = derivada(a)\n",
    "    end\n",
    "    return a\n",
    "end"
   ]
  },
  {
   "cell_type": "code",
   "execution_count": 306,
   "metadata": {
    "collapsed": false
   },
   "outputs": [
    {
     "data": {
      "text/plain": [
       "exp (generic function with 14 methods)"
      ]
     },
     "execution_count": 306,
     "metadata": {},
     "output_type": "execute_result"
    }
   ],
   "source": [
    "function exp(a::Taylor,x₀,n::Int =10)\n",
    "    typeof(x₀) <: Number || error(\"x₀ = '$x₀' debe ser de tipo T<:Number\")\n",
    "    E₀ = exp(evaluar(a, x₀)) \n",
    "    E = [E₀]\n",
    "    g(k) = 1/factorial(k)*evaluar(derivada(a,k),x₀)\n",
    "    for k in 1:n\n",
    "        push!(E,0)\n",
    "        for j in 0:k-1\n",
    "            E[k+1] += 1/(k)*(k-j)*g(k-j)*E[j+1]\n",
    "        end\n",
    "    end\n",
    "    Taylor(E)       \n",
    "end"
   ]
  },
  {
   "cell_type": "code",
   "execution_count": 307,
   "metadata": {
    "collapsed": false
   },
   "outputs": [
    {
     "data": {
      "text/plain": [
       "Taylor{Float64}([1.0,1.0,0.5,0.16666666666666666,0.041666666666666664,0.008333333333333333,0.0013888888888888887,0.00019841269841269839,2.4801587301587298e-5,2.7557319223985884e-6,2.7557319223985883e-7],10)"
      ]
     },
     "execution_count": 307,
     "metadata": {},
     "output_type": "execute_result"
    }
   ],
   "source": [
    "exp(Taylor([0,1]),0)"
   ]
  },
  {
   "cell_type": "code",
   "execution_count": 308,
   "metadata": {
    "collapsed": false
   },
   "outputs": [
    {
     "name": "stdout",
     "output_type": "stream",
     "text": [
      "1.0\n",
      "0.5\n",
      "0.16666666666666666\n",
      "0.041666666666666664\n",
      "0.008333333333333333\n",
      "0.001388888888888889\n",
      "0.0001984126984126984\n",
      "2.48015873015873e-5\n",
      "2.7557319223985893e-6\n",
      "2.755731922398589e-7\n"
     ]
    }
   ],
   "source": [
    "for i in 1:10\n",
    "    a = 1/factorial(i)\n",
    "    println(\"$a\")\n",
    "end"
   ]
  },
  {
   "cell_type": "code",
   "execution_count": 309,
   "metadata": {
    "collapsed": false
   },
   "outputs": [
    {
     "data": {
      "text/plain": [
       "log (generic function with 21 methods)"
      ]
     },
     "execution_count": 309,
     "metadata": {},
     "output_type": "execute_result"
    }
   ],
   "source": [
    "function log(a::Taylor,x₀,n::Int =10)\n",
    "    typeof(x₀) <: Number || error(\"x₀ = '$x₀' debe ser de tipo T<:Number\")\n",
    "    g₀ = evaluar(a, x₀)\n",
    "    L₀ = log(g₀)\n",
    "    g(k) = 1/factorial(k)*evaluar(derivada(a,k),x₀)   \n",
    "    L = [L₀,g(1)/g₀]\n",
    "    for k in 2:n\n",
    "        push!(L,g(k)/g₀)\n",
    "        for j in 1:k-1\n",
    "            L[k+1] -= 1/(k*g₀) * j*L[j+1]*g(k-j)\n",
    "        end\n",
    "    end\n",
    "    Taylor(L)       \n",
    "end"
   ]
  },
  {
   "cell_type": "markdown",
   "metadata": {},
   "source": [
    "Por ejemplo:\n",
    "\n",
    "Si $g(x) = x$ alrededor de $x_0 = 2$, para $k>0$ $g_{[k]} = \\delta_{1,k}$ y $g_{[0]} = g(x_0) = 2$ por tanto\n",
    "\n",
    "$$L[k] = \\frac{\\delta_{1,k}}{g_{[0]}} - \\frac{k-1}{k g_{[0]}} L_{[k-1]}$$\n",
    "\n",
    "$$L[1] = \\frac{1}{g_{[0]}}$$\n",
    "\n",
    "$$L[2] = - \\frac{1}{2 g_{[0]}} L_{[1]}$$\n",
    "\n",
    "$$L[3] = - \\frac{2}{3 g_{[0]}} L_{[2]} = \\frac{(2)(1)}{3(2) g_{[0]}^3} = (-1)^{3-1}\\frac{(3-1)!}{3! g_{[0]}^3}$$\n",
    "\n",
    "por lo que para $k>0$\n",
    "\n",
    "$$L[k] = (-1)^{k-1} \\frac{(k-1)!}{k!g_{[0]}^k} = (-1)^{k-1} \\frac{1}{kg_{[0]}^k} $$\n",
    "\n",
    "$$L[k] = (-1)^{k-1} \\frac{1}{2^k k}$$\n",
    "\n",
    "De esta forma podemos comprobar más fácil el resultado de la funcion log"
   ]
  },
  {
   "cell_type": "code",
   "execution_count": 310,
   "metadata": {
    "collapsed": false
   },
   "outputs": [
    {
     "data": {
      "text/plain": [
       "Taylor{Float64}([0.6931471805599453,0.5,-0.125,0.041666666666666664,-0.015625,0.00625,-0.0026041666666666665,0.0011160714285714285,-0.00048828125,0.00021701388888888888,-9.765624999999999e-5],10)"
      ]
     },
     "execution_count": 310,
     "metadata": {},
     "output_type": "execute_result"
    }
   ],
   "source": [
    "log(Taylor([0,1]),2)"
   ]
  },
  {
   "cell_type": "code",
   "execution_count": 311,
   "metadata": {
    "collapsed": false
   },
   "outputs": [
    {
     "data": {
      "text/plain": [
       "0.6931471805599453"
      ]
     },
     "execution_count": 311,
     "metadata": {},
     "output_type": "execute_result"
    }
   ],
   "source": [
    "log(2)"
   ]
  },
  {
   "cell_type": "code",
   "execution_count": 301,
   "metadata": {
    "collapsed": false
   },
   "outputs": [
    {
     "name": "stdout",
     "output_type": "stream",
     "text": [
      "0.5\n",
      "-0.125\n",
      "0.041666666666666664\n",
      "-0.015625\n",
      "0.00625\n",
      "-0.0026041666666666665\n",
      "0.0011160714285714285\n",
      "-0.00048828125\n",
      "0.00021701388888888888\n",
      "-9.765625e-5\n"
     ]
    }
   ],
   "source": [
    "for i in 1:10\n",
    "    a = (-1)^(i-1) * 1/(2^i*i)\n",
    "    println(\"$(a)\")\n",
    "end"
   ]
  },
  {
   "cell_type": "code",
   "execution_count": null,
   "metadata": {
    "collapsed": true
   },
   "outputs": [],
   "source": [
    "function p(α::Int,a::Taylor,x₀,n::Int =10)\n",
    "    typeof(x₀) <: Number || error(\"x₀ = '$x₀' debe ser de tipo T<:Number\")\n",
    "    g₀ = evaluar(a, x₀)\n",
    "    P₀ = g₀^α\n",
    "    g(k) = 1/factorial(k)*evaluar(derivada(a,k),x₀)   \n",
    "    P = [P₀]\n",
    "    for k in 2:n\n",
    "        push!(L,g(k)/g₀)\n",
    "        for j in 1:k-1\n",
    "            L[k+1] -= 1/(k*g₀) * j*L[j+1]*g(k-j)\n",
    "        end\n",
    "    end\n",
    "    Taylor(L) \n",
    "end"
   ]
  }
 ],
 "metadata": {
  "kernelspec": {
   "display_name": "Julia 0.4.2",
   "language": "julia",
   "name": "julia-0.4"
  },
  "language_info": {
   "file_extension": ".jl",
   "mimetype": "application/julia",
   "name": "julia",
   "version": "0.4.2"
  }
 },
 "nbformat": 4,
 "nbformat_minor": 0
}
